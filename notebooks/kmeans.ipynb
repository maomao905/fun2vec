{
 "cells": [
  {
   "cell_type": "code",
   "execution_count": 10,
   "metadata": {
    "collapsed": true
   },
   "outputs": [],
   "source": [
    "%matplotlib inline\n",
    "import os, sys\n",
    "sys.path.append(os.path.abspath(os.path.join(os.getcwd(), '../')))\n",
    "from sklearn.cluster import MiniBatchKMeans\n",
    "from model import Model\n",
    "from sklearn.externals import joblib\n",
    "import numpy as np\n",
    "import matplotlib.pyplot as plt"
   ]
  },
  {
   "cell_type": "code",
   "execution_count": 13,
   "metadata": {
    "collapsed": true
   },
   "outputs": [],
   "source": [
    "INSPECT_RANGE = range(300, 1501, 200)"
   ]
  },
  {
   "cell_type": "code",
   "execution_count": null,
   "metadata": {
    "collapsed": true
   },
   "outputs": [],
   "source": [
    "embeddings = Model.load_model('word2vec').wv.syn0norm"
   ]
  },
  {
   "cell_type": "code",
   "execution_count": 7,
   "metadata": {
    "collapsed": true
   },
   "outputs": [],
   "source": [
    "def cluster(X, k):\n",
    "    clf = MiniBatchKMeans(n_clusters=k, batch_size=500, init_size=10000, random_state=0)\n",
    "    clf.fit(X)\n",
    "    print(f'{k} clusters => SSE: {clf.inertia_}')\n",
    "    return clf.inertia_"
   ]
  },
  {
   "cell_type": "code",
   "execution_count": 14,
   "metadata": {},
   "outputs": [
    {
     "name": "stderr",
     "output_type": "stream",
     "text": [
      "[2017-11-19 00:44:51][INFO][gensim.utils #load:278] loading Word2Vec object from /Users/vv001249/fun2vec/data/word2vec.model.gz\n",
      "[2017-11-19 00:44:59][INFO][gensim.utils #load:284] loaded /Users/vv001249/fun2vec/data/word2vec.model.gz\n"
     ]
    },
    {
     "name": "stdout",
     "output_type": "stream",
     "text": [
      "-------------------------------word2vec-------------------------------\n",
      "corpus size: 473万\n",
      "vocab size: 72,413\n",
      "loss: 5702.0万\n",
      "SSE: 35189.8231882751\n",
      "SSE: 33258.47044813633\n",
      "SSE: 32113.721615195274\n",
      "SSE: 31348.270636945963\n",
      "SSE: 30811.305753976107\n",
      "SSE: 30395.254613876343\n",
      "SSE: 30047.37563621998\n"
     ]
    }
   ],
   "source": [
    "errors = []\n",
    "for n in INSPECT_RANGE:\n",
    "    errors.append(cluster(embeddings, n))"
   ]
  },
  {
   "cell_type": "code",
   "execution_count": 16,
   "metadata": {},
   "outputs": [
    {
     "data": {
      "image/png": "[encoded data removed]",
      "text/plain": [
       "<matplotlib.figure.Figure at 0x117a568d0>"
      ]
     },
     "metadata": {},
     "output_type": "display_data"
    }
   ],
   "source": [
    "plt.plot(INSPECT_RANGE, errors, marker='o')\n",
    "plt.xlabel('Number of clusters')\n",
    "plt.ylabel('SSE')\n",
    "plt.show()"
   ]
  }
 ],
 "metadata": {
  "kernelspec": {
   "display_name": "Python 3",
   "language": "python",
   "name": "python3"
  },
  "language_info": {
   "codemirror_mode": {
    "name": "ipython",
    "version": 3
   },
   "file_extension": ".py",
   "mimetype": "text/x-python",
   "name": "python",
   "nbconvert_exporter": "python",
   "pygments_lexer": "ipython3",
   "version": "3.6.2"
  }
 },
 "nbformat": 4,
 "nbformat_minor": 2
}
