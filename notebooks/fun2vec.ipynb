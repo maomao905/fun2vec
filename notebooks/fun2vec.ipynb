{
 "cells": [
  {
   "cell_type": "markdown",
   "metadata": {},
   "source": [
    "<p>Twitterのプロフィールで興味・関心キーワードを抜き出したものをcorpus.pklに保存されている</p>\n",
    "<p> それらのキーワードを1つ隠し、残りのキーワードから隠した1つを予測し、学習することで興味ベクトルを作る</p>"
   ]
  },
  {
   "cell_type": "code",
   "execution_count": 1,
   "metadata": {
    "collapsed": false
   },
   "outputs": [],
   "source": [
    "import pickle\n",
    "with open('data/corpus.pkl', 'rb') as f:\n",
    "    corpus = pickle.load(f)\n",
    "with open('data/dictionary.pkl', 'rb') as f:\n",
    "    dictionary = pickle.load(f)"
   ]
  },
  {
   "cell_type": "code",
   "execution_count": 2,
   "metadata": {
    "collapsed": false
   },
   "outputs": [],
   "source": [
    "reverse_dictionary = {v: k for k, v in dictionary.items()}"
   ]
  },
  {
   "cell_type": "code",
   "execution_count": 3,
   "metadata": {
    "collapsed": true
   },
   "outputs": [],
   "source": [
    "import os\n",
    "def rm_logs(dir_path):\n",
    "    for root, dirs, files in os.walk(dir_path, topdown=False):\n",
    "        for name in files:\n",
    "            os.remove(os.path.join(root, name))"
   ]
  },
  {
   "cell_type": "code",
   "execution_count": 4,
   "metadata": {
    "collapsed": false
   },
   "outputs": [
    {
     "name": "stdout",
     "output_type": "stream",
     "text": [
      " batch: [[0, '作曲家'], [0, 'スペイン語'], [0, '翻訳'], [0, 'GameBoy'], [0, '開発'], [1, 'Twit'], [1, 'しよう'], [2, 'フォロリク'], [2, 'tweet'], [2, '日常'], [2, '垢'], [3, '男'], [3, '少女'], [3, 'ハドソン'], [3, '在住'], [3, '中年'], [3, '台湾'], [3, '東方'], [3, 'コスプレ'], [3, '娘。'], [3, 'コレクター'], [3, 'レトロゲーム'], [4, '轉'], [4, '魔法'], [5, '沖縄'], [5, '作家'], [5, 'よろしくお願いします'], [5, '東野圭吾'], [5, '広東語'], [5, '小説'], [5, '日本'], [5, 'tweet'], [5, 'ファン'], [5, '推理'], [5, 'ミステリ'], [5, 'お世話'], [6, '勉強'], [7, '流通'], [7, 'ケータイ'], [7, 'マーケ'], [7, 'ネットワーク機器'], [7, '興味'], [8, 'ジャンル'], [8, '都内'], [8, '組織'], [8, '個人'], [8, 'ネタ'], [8, 'tweet'], [8, '所属'], [9, '写真'], [9, 'スルー'], [9, 'ネタ'], [9, '歓迎'], [9, 'デマ'], [9, 'ヲチ'], [9, '公式RT']]\n",
      " labels: [[0, '福岡'], [1, '興味'], [2, '鍵'], [3, '台湾人'], [4, '魔法少女'], [5, 'クイーン'], [6, '語'], [7, 'カメラ'], [8, '見解'], [9, 'お断り']]\n"
     ]
    }
   ],
   "source": [
    "data_index = 0\n",
    "import numpy as np\n",
    "from copy import copy\n",
    "import random\n",
    "\n",
    "def generate_batch(batch_size):\n",
    "    global data_index\n",
    "    batch = []\n",
    "    labels = []\n",
    "    batch_count = 0\n",
    "    \n",
    "    while(batch_count < batch_size):\n",
    "        fun_ids = copy(corpus[data_index])\n",
    "        # 興味が１つしかない場合は予測できないので無視\n",
    "        if len(fun_ids) >= 2:\n",
    "            label = random.sample(fun_ids, 1)\n",
    "            fun_ids.remove(label[0])\n",
    "            for fun_id in fun_ids:\n",
    "                batch.append([batch_count, fun_id])\n",
    "            labels.append(label)\n",
    "            batch_count += 1\n",
    "        data_index = (data_index + 1) % len(corpus)\n",
    "        if batch_count >= batch_size:\n",
    "            break\n",
    "\n",
    "    return batch, labels\n",
    "\n",
    "_batch, _labels = generate_batch(batch_size=10)\n",
    "print(' batch:', [[idx, reverse_dictionary[v_id]] for idx, v_id in _batch])\n",
    "print(' labels:', [[idx, reverse_dictionary[v_id[0]]] for idx, v_id in enumerate(_labels)])"
   ]
  },
  {
   "cell_type": "code",
   "execution_count": 5,
   "metadata": {
    "collapsed": false
   },
   "outputs": [],
   "source": [
    "# Train cbow model\n",
    "import tensorflow as tf\n",
    "import math\n",
    "import numpy as np\n",
    "import random\n",
    "\n",
    "BATCH_SIZE = 500\n",
    "EMBEDDING_SIZE = 200\n",
    "NUM_SAMPLED = BATCH_SIZE//3\n",
    "VOCAB_SIZE = len(dictionary)\n",
    "SAMPLE_IDS = [dictionary[w] for w in ['英語', '機械学習', 'プログラミング', '将棋', 'サッカー', 'ビリヤード', '議論', '脳科学']]\n",
    "SAMPLE_SIZE = len(SAMPLE_IDS)\n",
    "# 辞書の単語IDは0から順に振られているのでrangeでもOK\n",
    "sample_indices = np.array([[idx, vocab_id] for idx, vocab_id in enumerate(SAMPLE_IDS)])\n",
    "\n",
    "graph = tf.Graph()\n",
    "\n",
    "with graph.as_default(), tf.device('/cpu:0'):\n",
    "    # input data\n",
    "    # sparse matrix(shape=batch_size*vocab_size)にtrain_indicesの部分に0でない興味が入り、valuesはすべて1\n",
    "    train_indices = tf.placeholder(tf.int64) # 0でない場所を指す\n",
    "    train_dataset = tf.SparseTensor(train_indices, values=tf.ones([tf.shape(train_indices)[0]], tf.float32), dense_shape=[BATCH_SIZE, VOCAB_SIZE])\n",
    "    train_labels = tf.placeholder(tf.int32, shape=[BATCH_SIZE, 1])\n",
    "    sample_dataset = tf.SparseTensor(sample_indices, values=tf.ones([tf.shape(sample_indices)[0]], tf.float32), dense_shape=[SAMPLE_SIZE, VOCAB_SIZE])\n",
    "    \n",
    "    # Variables\n",
    "    # 一様分布で興味ベクトル初期化\n",
    "    embeddings = tf.Variable(tf.random_uniform([VOCAB_SIZE, EMBEDDING_SIZE], -1.0, 1.0))\n",
    "    softmax_weights = tf.Variable(tf.truncated_normal([VOCAB_SIZE, EMBEDDING_SIZE], stddev=1.0/math.sqrt(EMBEDDING_SIZE)))\n",
    "    tf.summary.scalar('weights', tf.reduce_mean(softmax_weights))\n",
    "    softmax_biases = tf.Variable(tf.zeros([VOCAB_SIZE]))\n",
    "    # 該当ユーザーのtrainingデータの興味ベクトルをすべて足す\n",
    "    embed = tf.sparse_tensor_dense_matmul(train_dataset, embeddings)\n",
    "\n",
    "    # softmax loss with negative sampling\n",
    "    loss = tf.reduce_mean(\n",
    "        tf.nn.sampled_softmax_loss(\n",
    "            weights=softmax_weights,\n",
    "            biases=softmax_biases,\n",
    "            inputs=embed, # batch_size * embedding_size\n",
    "            labels=train_labels,\n",
    "            num_sampled=NUM_SAMPLED,\n",
    "            num_classes=VOCAB_SIZE))\n",
    "    tf.summary.scalar('loss', loss)\n",
    "    optimizer = tf.train.AdagradOptimizer(0.8).minimize(loss)\n",
    "\n",
    "    norm = tf.sqrt(tf.reduce_sum(tf.square(embeddings), 1, keep_dims=True))\n",
    "    normalized_embeddings = embeddings / norm\n",
    "    # サンプルデータのベクトル\n",
    "    sample_embed = tf.sparse_tensor_dense_matmul(sample_dataset, normalized_embeddings)\n",
    "    # サンプルデータとの類似度\n",
    "    similarity = tf.matmul(sample_embed, tf.transpose(normalized_embeddings))\n",
    "    # tensorboard summary\n",
    "    merged_summary = tf.summary.merge_all()"
   ]
  },
  {
   "cell_type": "code",
   "execution_count": 6,
   "metadata": {
    "collapsed": false
   },
   "outputs": [
    {
     "name": "stdout",
     "output_type": "stream",
     "text": [
      "Average loss at step 1000: 5.989287\n",
      "Average loss at step 2000: 5.952760\n",
      "Average loss at step 3000: 5.946275\n",
      "Average loss at step 4000: 5.879417\n",
      "Average loss at step 5000: 5.965440\n",
      "Nearest to 英語: アニメヲタ  ROA  ミルキアン  セシリア  エイズ  インフルエンサー  松崎梨央  天象 \n",
      "Nearest to 機械学習: 道明寺歌鈴  慰安  年末年始  壱星  孖  メル友  サザン・ロック  デグー \n",
      "Nearest to プログラミング: バビロニア  主犯  応援  地道  思  あざ  末弟  ホラーコア \n",
      "Nearest to 将棋: 三代目J Soul Brothers  万歳  オデ  お座  サトー  基準  コート  周防尊 \n",
      "Nearest to サッカー: グロリアス  色彩検定  キャラ変  年越し  ゆのっち  番協  北見  地球人 \n",
      "Nearest to ビリヤード: ワカマツカオリ  機工  白玉粉  にっしー  エセ  えれん  笠松  旅客機 \n",
      "Nearest to 議論: ソルジャー  憂鬱  ィズニーシー  Clie  フォロバアニメ  蓉  リムーブ・ブロック  白井萌花 \n",
      "Nearest to 脳科学: 書道  グラスアイ  ソメワケ  百貨店  注射  京産  ゴシック  バセドウ病 \n",
      "Average loss at step 6000: 5.953638\n",
      "Average loss at step 7000: 5.938462\n",
      "Average loss at step 8000: 5.887482\n",
      "Average loss at step 9000: 5.963041\n",
      "Average loss at step 10000: 5.961713\n",
      "Nearest to 英語: アニメヲタ  ROA  ミルキアン  セシリア  エイズ  インフルエンサー  松崎梨央  天象 \n",
      "Nearest to 機械学習: 道明寺歌鈴  慰安  年末年始  壱星  孖  メル友  サザン・ロック  デグー \n",
      "Nearest to プログラミング: バビロニア  主犯  応援  地道  思  あざ  末弟  ホラーコア \n",
      "Nearest to 将棋: 三代目J Soul Brothers  万歳  オデ  お座  サトー  基準  コート  周防尊 \n",
      "Nearest to サッカー: グロリアス  色彩検定  キャラ変  年越し  ゆのっち  番協  北見  地球人 \n",
      "Nearest to ビリヤード: ワカマツカオリ  機工  白玉粉  にっしー  エセ  えれん  笠松  旅客機 \n",
      "Nearest to 議論: ソルジャー  憂鬱  ィズニーシー  Clie  フォロバアニメ  蓉  リムーブ・ブロック  白井萌花 \n",
      "Nearest to 脳科学: 書道  グラスアイ  ソメワケ  百貨店  注射  京産  ゴシック  バセドウ病 \n",
      "Average loss at step 11000: 5.948063\n",
      "Average loss at step 12000: 5.896505\n",
      "Average loss at step 13000: 5.958126\n",
      "Average loss at step 14000: 5.959858\n",
      "Average loss at step 15000: 5.952285\n",
      "Nearest to 英語: アニメヲタ  ROA  ミルキアン  セシリア  エイズ  インフルエンサー  松崎梨央  天象 \n",
      "Nearest to 機械学習: 道明寺歌鈴  慰安  年末年始  壱星  孖  メル友  サザン・ロック  デグー \n",
      "Nearest to プログラミング: バビロニア  主犯  応援  地道  思  あざ  末弟  ホラーコア \n",
      "Nearest to 将棋: 三代目J Soul Brothers  万歳  オデ  お座  サトー  基準  コート  周防尊 \n",
      "Nearest to サッカー: グロリアス  色彩検定  キャラ変  年越し  ゆのっち  番協  北見  地球人 \n",
      "Nearest to ビリヤード: ワカマツカオリ  機工  白玉粉  にっしー  エセ  えれん  笠松  旅客機 \n",
      "Nearest to 議論: ソルジャー  憂鬱  ィズニーシー  Clie  フォロバアニメ  蓉  リムーブ・ブロック  白井萌花 \n",
      "Nearest to 脳科学: 書道  グラスアイ  ソメワケ  百貨店  注射  京産  ゴシック  バセドウ病 \n"
     ]
    },
    {
     "ename": "KeyboardInterrupt",
     "evalue": "",
     "output_type": "error",
     "traceback": [
      "\u001b[0;31m---------------------------------------------------------------------------\u001b[0m",
      "\u001b[0;31mKeyboardInterrupt\u001b[0m                         Traceback (most recent call last)",
      "\u001b[0;32m<ipython-input-6-844986eb1f6d>\u001b[0m in \u001b[0;36m<module>\u001b[0;34m()\u001b[0m\n\u001b[1;32m     14\u001b[0m             \u001b[0mtrain_labels\u001b[0m\u001b[0;34m:\u001b[0m \u001b[0mbatch_labels\u001b[0m\u001b[0;34m\u001b[0m\u001b[0m\n\u001b[1;32m     15\u001b[0m         }\n\u001b[0;32m---> 16\u001b[0;31m         \u001b[0msummary\u001b[0m\u001b[0;34m,\u001b[0m \u001b[0mI\u001b[0m \u001b[0;34m=\u001b[0m \u001b[0msess\u001b[0m\u001b[0;34m.\u001b[0m\u001b[0mrun\u001b[0m\u001b[0;34m(\u001b[0m\u001b[0;34m[\u001b[0m\u001b[0mmerged_summary\u001b[0m\u001b[0;34m,\u001b[0m \u001b[0mloss\u001b[0m\u001b[0;34m]\u001b[0m\u001b[0;34m,\u001b[0m \u001b[0mfeed_dict\u001b[0m\u001b[0;34m=\u001b[0m\u001b[0mfeed_dict\u001b[0m\u001b[0;34m)\u001b[0m\u001b[0;34m\u001b[0m\u001b[0m\n\u001b[0m\u001b[1;32m     17\u001b[0m         \u001b[0maverage_loss\u001b[0m \u001b[0;34m+=\u001b[0m \u001b[0mI\u001b[0m\u001b[0;34m\u001b[0m\u001b[0m\n\u001b[1;32m     18\u001b[0m         \u001b[0;32mif\u001b[0m \u001b[0mstep\u001b[0m \u001b[0;34m%\u001b[0m \u001b[0;36m1000\u001b[0m \u001b[0;34m==\u001b[0m \u001b[0;36m0\u001b[0m\u001b[0;34m:\u001b[0m\u001b[0;34m\u001b[0m\u001b[0m\n",
      "\u001b[0;32m/Users/vv001249/.pyenv/versions/anaconda3-4.0.0/lib/python3.5/site-packages/tensorflow/python/client/session.py\u001b[0m in \u001b[0;36mrun\u001b[0;34m(self, fetches, feed_dict, options, run_metadata)\u001b[0m\n\u001b[1;32m    787\u001b[0m     \u001b[0;32mtry\u001b[0m\u001b[0;34m:\u001b[0m\u001b[0;34m\u001b[0m\u001b[0m\n\u001b[1;32m    788\u001b[0m       result = self._run(None, fetches, feed_dict, options_ptr,\n\u001b[0;32m--> 789\u001b[0;31m                          run_metadata_ptr)\n\u001b[0m\u001b[1;32m    790\u001b[0m       \u001b[0;32mif\u001b[0m \u001b[0mrun_metadata\u001b[0m\u001b[0;34m:\u001b[0m\u001b[0;34m\u001b[0m\u001b[0m\n\u001b[1;32m    791\u001b[0m         \u001b[0mproto_data\u001b[0m \u001b[0;34m=\u001b[0m \u001b[0mtf_session\u001b[0m\u001b[0;34m.\u001b[0m\u001b[0mTF_GetBuffer\u001b[0m\u001b[0;34m(\u001b[0m\u001b[0mrun_metadata_ptr\u001b[0m\u001b[0;34m)\u001b[0m\u001b[0;34m\u001b[0m\u001b[0m\n",
      "\u001b[0;32m/Users/vv001249/.pyenv/versions/anaconda3-4.0.0/lib/python3.5/site-packages/tensorflow/python/client/session.py\u001b[0m in \u001b[0;36m_run\u001b[0;34m(self, handle, fetches, feed_dict, options, run_metadata)\u001b[0m\n\u001b[1;32m    995\u001b[0m     \u001b[0;32mif\u001b[0m \u001b[0mfinal_fetches\u001b[0m \u001b[0;32mor\u001b[0m \u001b[0mfinal_targets\u001b[0m\u001b[0;34m:\u001b[0m\u001b[0;34m\u001b[0m\u001b[0m\n\u001b[1;32m    996\u001b[0m       results = self._do_run(handle, final_targets, final_fetches,\n\u001b[0;32m--> 997\u001b[0;31m                              feed_dict_string, options, run_metadata)\n\u001b[0m\u001b[1;32m    998\u001b[0m     \u001b[0;32melse\u001b[0m\u001b[0;34m:\u001b[0m\u001b[0;34m\u001b[0m\u001b[0m\n\u001b[1;32m    999\u001b[0m       \u001b[0mresults\u001b[0m \u001b[0;34m=\u001b[0m \u001b[0;34m[\u001b[0m\u001b[0;34m]\u001b[0m\u001b[0;34m\u001b[0m\u001b[0m\n",
      "\u001b[0;32m/Users/vv001249/.pyenv/versions/anaconda3-4.0.0/lib/python3.5/site-packages/tensorflow/python/client/session.py\u001b[0m in \u001b[0;36m_do_run\u001b[0;34m(self, handle, target_list, fetch_list, feed_dict, options, run_metadata)\u001b[0m\n\u001b[1;32m   1130\u001b[0m     \u001b[0;32mif\u001b[0m \u001b[0mhandle\u001b[0m \u001b[0;32mis\u001b[0m \u001b[0;32mNone\u001b[0m\u001b[0;34m:\u001b[0m\u001b[0;34m\u001b[0m\u001b[0m\n\u001b[1;32m   1131\u001b[0m       return self._do_call(_run_fn, self._session, feed_dict, fetch_list,\n\u001b[0;32m-> 1132\u001b[0;31m                            target_list, options, run_metadata)\n\u001b[0m\u001b[1;32m   1133\u001b[0m     \u001b[0;32melse\u001b[0m\u001b[0;34m:\u001b[0m\u001b[0;34m\u001b[0m\u001b[0m\n\u001b[1;32m   1134\u001b[0m       return self._do_call(_prun_fn, self._session, handle, feed_dict,\n",
      "\u001b[0;32m/Users/vv001249/.pyenv/versions/anaconda3-4.0.0/lib/python3.5/site-packages/tensorflow/python/client/session.py\u001b[0m in \u001b[0;36m_do_call\u001b[0;34m(self, fn, *args)\u001b[0m\n\u001b[1;32m   1137\u001b[0m   \u001b[0;32mdef\u001b[0m \u001b[0m_do_call\u001b[0m\u001b[0;34m(\u001b[0m\u001b[0mself\u001b[0m\u001b[0;34m,\u001b[0m \u001b[0mfn\u001b[0m\u001b[0;34m,\u001b[0m \u001b[0;34m*\u001b[0m\u001b[0margs\u001b[0m\u001b[0;34m)\u001b[0m\u001b[0;34m:\u001b[0m\u001b[0;34m\u001b[0m\u001b[0m\n\u001b[1;32m   1138\u001b[0m     \u001b[0;32mtry\u001b[0m\u001b[0;34m:\u001b[0m\u001b[0;34m\u001b[0m\u001b[0m\n\u001b[0;32m-> 1139\u001b[0;31m       \u001b[0;32mreturn\u001b[0m \u001b[0mfn\u001b[0m\u001b[0;34m(\u001b[0m\u001b[0;34m*\u001b[0m\u001b[0margs\u001b[0m\u001b[0;34m)\u001b[0m\u001b[0;34m\u001b[0m\u001b[0m\n\u001b[0m\u001b[1;32m   1140\u001b[0m     \u001b[0;32mexcept\u001b[0m \u001b[0merrors\u001b[0m\u001b[0;34m.\u001b[0m\u001b[0mOpError\u001b[0m \u001b[0;32mas\u001b[0m \u001b[0me\u001b[0m\u001b[0;34m:\u001b[0m\u001b[0;34m\u001b[0m\u001b[0m\n\u001b[1;32m   1141\u001b[0m       \u001b[0mmessage\u001b[0m \u001b[0;34m=\u001b[0m \u001b[0mcompat\u001b[0m\u001b[0;34m.\u001b[0m\u001b[0mas_text\u001b[0m\u001b[0;34m(\u001b[0m\u001b[0me\u001b[0m\u001b[0;34m.\u001b[0m\u001b[0mmessage\u001b[0m\u001b[0;34m)\u001b[0m\u001b[0;34m\u001b[0m\u001b[0m\n",
      "\u001b[0;32m/Users/vv001249/.pyenv/versions/anaconda3-4.0.0/lib/python3.5/site-packages/tensorflow/python/client/session.py\u001b[0m in \u001b[0;36m_run_fn\u001b[0;34m(session, feed_dict, fetch_list, target_list, options, run_metadata)\u001b[0m\n\u001b[1;32m   1119\u001b[0m         return tf_session.TF_Run(session, options,\n\u001b[1;32m   1120\u001b[0m                                  \u001b[0mfeed_dict\u001b[0m\u001b[0;34m,\u001b[0m \u001b[0mfetch_list\u001b[0m\u001b[0;34m,\u001b[0m \u001b[0mtarget_list\u001b[0m\u001b[0;34m,\u001b[0m\u001b[0;34m\u001b[0m\u001b[0m\n\u001b[0;32m-> 1121\u001b[0;31m                                  status, run_metadata)\n\u001b[0m\u001b[1;32m   1122\u001b[0m \u001b[0;34m\u001b[0m\u001b[0m\n\u001b[1;32m   1123\u001b[0m     \u001b[0;32mdef\u001b[0m \u001b[0m_prun_fn\u001b[0m\u001b[0;34m(\u001b[0m\u001b[0msession\u001b[0m\u001b[0;34m,\u001b[0m \u001b[0mhandle\u001b[0m\u001b[0;34m,\u001b[0m \u001b[0mfeed_dict\u001b[0m\u001b[0;34m,\u001b[0m \u001b[0mfetch_list\u001b[0m\u001b[0;34m)\u001b[0m\u001b[0;34m:\u001b[0m\u001b[0;34m\u001b[0m\u001b[0m\n",
      "\u001b[0;31mKeyboardInterrupt\u001b[0m: "
     ]
    }
   ],
   "source": [
    "NUM_STEPS = 50000\n",
    "SUMMARY_DIR = 'data/tensorboard'\n",
    "TOP_K = 8\n",
    "\n",
    "with tf.Session(graph=graph) as sess:\n",
    "    rm_logs(SUMMARY_DIR)\n",
    "    writer = tf.summary.FileWriter(SUMMARY_DIR, sess.graph)\n",
    "    tf.global_variables_initializer().run()\n",
    "    average_loss = 0\n",
    "    for step in range(1, NUM_STEPS+1):\n",
    "        batch_data, batch_labels = generate_batch(BATCH_SIZE)\n",
    "        feed_dict = {\n",
    "            train_indices: batch_data,\n",
    "            train_labels: batch_labels\n",
    "        }\n",
    "        summary, I = sess.run([merged_summary, loss], feed_dict=feed_dict)\n",
    "        average_loss += I\n",
    "        if step % 1000 == 0:\n",
    "            average_loss = average_loss / 1000\n",
    "            print('Average loss at step %d: %f' % (step, average_loss))\n",
    "            average_loss = 0\n",
    "            writer.add_summary(summary, step)\n",
    "        if step % 5000 == 0:\n",
    "            sim = similarity.eval()\n",
    "            for i in range(SAMPLE_SIZE):\n",
    "                sample_fun = reverse_dictionary[sample_indices[i][1]]\n",
    "                nearest = (-sim[i, :]).argsort()[1:TOP_K+1]\n",
    "                log = 'Nearest to %s:' % sample_fun\n",
    "                for k in range(TOP_K):\n",
    "                    close_fun = reverse_dictionary[nearest[k]]\n",
    "                    log = '%s %s ' % (log, close_fun)\n",
    "                print(log)\n",
    "    writer.close()\n",
    "    final_embeddings = normalized_embeddings.eval()"
   ]
  },
  {
   "cell_type": "code",
   "execution_count": null,
   "metadata": {
    "collapsed": false
   },
   "outputs": [],
   "source": [
    "print(dictionary['機械学習'])\n",
    "print(dictionary['プログラミング'])\n",
    "print(dictionary['将棋'])\n",
    "print(dictionary['ビリヤード'])\n",
    "print(dictionary['ダーツ'])\n",
    "print(dictionary['旅行'])\n",
    "print(dictionary['温泉'])"
   ]
  }
 ],
 "metadata": {
  "kernelspec": {
   "display_name": "Python 3",
   "language": "python",
   "name": "python3"
  },
  "language_info": {
   "codemirror_mode": {
    "name": "ipython",
    "version": 3
   },
   "file_extension": ".py",
   "mimetype": "text/x-python",
   "name": "python",
   "nbconvert_exporter": "python",
   "pygments_lexer": "ipython3",
   "version": "3.5.3"
  }
 },
 "nbformat": 4,
 "nbformat_minor": 0
}
