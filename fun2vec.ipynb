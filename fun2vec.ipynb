{
 "cells": [
  {
   "cell_type": "markdown",
   "metadata": {},
   "source": [
    "<p>Twitterのプロフィールで興味・関心キーワードを抜き出したものをcorpus.pklに保存されている</p>\n",
    "<p> それらのキーワードを1つ隠し、残りのキーワードから隠した1つを予測し、学習することで興味ベクトルを作る</p>"
   ]
  },
  {
   "cell_type": "code",
   "execution_count": null,
   "metadata": {
    "collapsed": false
   },
   "outputs": [],
   "source": [
    "import pickle\n",
    "with open('data/corpus.pkl', 'rb') as f:\n",
    "    corpus = pickle.load(f)\n",
    "with open('data/dictionary.pkl', 'rb') as f:\n",
    "    dictionary = pickle.load(f)"
   ]
  },
  {
   "cell_type": "code",
   "execution_count": 21,
   "metadata": {
    "collapsed": false
   },
   "outputs": [],
   "source": [
    "reverse_dictionary = {v: k for k, v in dictionary.items()}"
   ]
  },
  {
   "cell_type": "code",
   "execution_count": 10,
   "metadata": {
    "collapsed": false
   },
   "outputs": [
    {
     "name": "stdout",
     "output_type": "stream",
     "text": [
      " batch: [[0, 5], [0, 0], [0, 2], [0, 1], [0, 4], [1, 9405], [1, 2420], [2, 2403], [2, 4699], [2, 7999], [2, 3190], [3, 6430], [3, 5552], [3, 53937], [3, 2571], [3, 5186], [3, 352], [3, 3875], [3, 2991], [3, 455], [3, 20664], [3, 391], [4, 30324], [4, 13857], [5, 2994], [5, 7378], [5, 18559], [5, 14151], [5, 8423], [5, 72], [5, 4975], [5, 4699], [5, 10165], [5, 1961], [5, 77], [5, 41895], [6, 6596], [7, 5710], [7, 53], [7, 3617], [7, 52], [7, 51], [8, 26476], [8, 1862], [8, 1869], [8, 1866], [8, 554], [8, 4699], [8, 2570], [9, 23551], [9, 1756], [9, 2372], [9, 31205], [9, 6271], [9, 47541], [9, 2791]]\n",
      " labels: [[2302], [30234], [9338], [8163], [13848], [2505], [33417], [2420], [9899], [554]]\n"
     ]
    }
   ],
   "source": [
    "data_index = 0\n",
    "import numpy as np\n",
    "from copy import copy\n",
    "import random\n",
    "\n",
    "def generate_batch(batch_size):\n",
    "    global data_index\n",
    "    assert batch_size % 2 == 0\n",
    "#     batch = np.ndarray(shape=(batch_size, len), dtype=np.int32)\n",
    "    batch = []\n",
    "    labels = []\n",
    "#     labels = np.ndarray(shape=(batch_size, 1), dtype=np.int32)\n",
    "    batch_count = 0\n",
    "    \n",
    "    while(batch_count < batch_size):\n",
    "        fun_ids = copy(corpus[data_index])\n",
    "        # 興味が１つしかない場合は予測できないので無視\n",
    "        if len(fun_ids) >= 2:\n",
    "            label = random.sample(fun_ids, 1)\n",
    "            fun_ids.remove(label[0])\n",
    "            for fun_id in fun_ids:\n",
    "                batch.append([batch_count, fun_id])\n",
    "            labels.append(label)\n",
    "            batch_count += 1\n",
    "        data_index = (data_index + 1) % len(corpus)\n",
    "        if batch_count >= batch_size:\n",
    "            break\n",
    "\n",
    "    return batch, labels\n",
    "\n",
    "_batch, _labels = generate_batch(batch_size=10)\n",
    "print(' batch:', _batch)\n",
    "print(' labels:', _labels)"
   ]
  },
  {
   "cell_type": "code",
   "execution_count": 23,
   "metadata": {
    "collapsed": false
   },
   "outputs": [],
   "source": [
    "# Train cbow model\n",
    "import tensorflow as tf\n",
    "import math\n",
    "import numpy as np\n",
    "import random\n",
    "\n",
    "BATCH_SIZE = 500\n",
    "EMBEDDING_SIZE = 200\n",
    "NUM_SAMPLED = 15\n",
    "VOCAB_SIZE = len(dictionary)\n",
    "SAMPLE_SIZE = 15\n",
    "# 辞書の単語IDは0から順に振られているのでrangeでもOK\n",
    "sample_indices = np.array([[idx, vocab_id] for idx, vocab_id in enumerate(random.sample(range(VOCAB_SIZE), SAMPLE_SIZE))])\n",
    "\n",
    "graph = tf.Graph()\n",
    "\n",
    "with graph.as_default(), tf.device('/cpu:0'):\n",
    "    # input data\n",
    "\n",
    "    # sparse matrix(shape=batch_size*vocab_size)にindicesだけ0でない興味が入り、valuesはすべて0\n",
    "    train_indices = tf.placeholder(tf.int64) # 0でない場所を指す\n",
    "    train_dataset = tf.SparseTensor(train_indices, values=tf.ones([tf.shape(train_indices)[0]], tf.float32), dense_shape=[BATCH_SIZE, VOCAB_SIZE])\n",
    "    train_labels = tf.placeholder(tf.int32, shape=[BATCH_SIZE, 1])\n",
    "    sample_dataset = tf.SparseTensor(sample_indices, values=tf.ones([tf.shape(sample_indices)[0]], tf.float32), dense_shape=[SAMPLE_SIZE, VOCAB_SIZE])\n",
    "    \n",
    "    # Variables\n",
    "    # 一様分布で興味ベクトル初期化\n",
    "    embeddings = tf.Variable(\n",
    "        tf.random_uniform([len(dictionary), EMBEDDING_SIZE], -1.0, 1.0))\n",
    "    softmax_weights = tf.Variable(\n",
    "        tf.truncated_normal([len(dictionary), EMBEDDING_SIZE],\n",
    "                           stddev=1.0/math.sqrt(EMBEDDING_SIZE)))\n",
    "    softmax_biases = tf.Variable(tf.zeros([len(dictionary)]))\n",
    "\n",
    "    # 該当ユーザーのtrainingデータの興味ベクトルをすべて足す\n",
    "    embed = tf.sparse_tensor_dense_matmul(train_dataset, embeddings)\n",
    "\n",
    "    # softmax loss with negative sampling\n",
    "    loss = tf.reduce_mean(\n",
    "        tf.nn.sampled_softmax_loss(\n",
    "            weights=softmax_weights,\n",
    "            biases=softmax_biases,\n",
    "            inputs=embed, # batch_size * embedding_size\n",
    "            labels=train_labels,\n",
    "            num_sampled=NUM_SAMPLED,\n",
    "            num_classes=len(dictionary)))\n",
    "    \n",
    "    optimizer = tf.train.AdagradOptimizer(0.8).minimize(loss)\n",
    "    norm = tf.sqrt(tf.reduce_sum(tf.square(embeddings), 1, keep_dims=True))\n",
    "    normalized_embeddings = embeddings / norm\n",
    "    # サンプルデータのベクトル\n",
    "    sample_embed = tf.sparse_tensor_dense_matmul(sample_dataset, normalized_embeddings)\n",
    "    # サンプルデータとの類似度\n",
    "    similarity = tf.matmul(sample_embed, tf.transpose(normalized_embeddings))"
   ]
  },
  {
   "cell_type": "code",
   "execution_count": null,
   "metadata": {
    "collapsed": false
   },
   "outputs": [
    {
     "name": "stdout",
     "output_type": "stream",
     "text": [
      "Average loss at step 1000: 1.057525\n",
      "Average loss at step 2000: 0.856630\n"
     ]
    }
   ],
   "source": [
    "num_steps = 10000\n",
    "\n",
    "with tf.Session(graph=graph) as session:\n",
    "    tf.global_variables_initializer().run()\n",
    "    average_loss = 0\n",
    "    for step in range(1, num_steps+1):\n",
    "        batch_data, batch_labels = generate_batch(BATCH_SIZE)\n",
    "        feed_dict = {\n",
    "            train_indices: batch_data,\n",
    "            train_labels: batch_labels\n",
    "        }\n",
    "        _, I = session.run([optimizer, loss], feed_dict=feed_dict)\n",
    "        average_loss += I\n",
    "#         print(step)\n",
    "        if step % 1000 == 0:\n",
    "            if step > 0:\n",
    "                average_loss = average_loss / 2000\n",
    "                print('Average loss at step %d: %f' % (step, average_loss))\n",
    "                average_loss = 0\n",
    "        if step % 10000 == 0:\n",
    "            sim = similarity.eval()\n",
    "            TOP_K = 8\n",
    "            for i in range(SAMPLE_SIZE):\n",
    "                sample_fun = reverse_dictionary[samples[i]]\n",
    "                nearest = (-sim[i, :]).argsort()[1:TOP_K+1]\n",
    "                log = 'Nearest to %s:' % sample_fun\n",
    "                for k in range(TOP_K):\n",
    "                    close_fun = reverse_dictionary[nearest[k]]\n",
    "                    log = '%s %s ' % (log, close_fun)\n",
    "                print(log)\n",
    "    final_embeddings = normalized_embeddings.eval()"
   ]
  }
 ],
 "metadata": {
  "kernelspec": {
   "display_name": "Python 3",
   "language": "python",
   "name": "python3"
  },
  "language_info": {
   "codemirror_mode": {
    "name": "ipython",
    "version": 3
   },
   "file_extension": ".py",
   "mimetype": "text/x-python",
   "name": "python",
   "nbconvert_exporter": "python",
   "pygments_lexer": "ipython3",
   "version": "3.5.3"
  }
 },
 "nbformat": 4,
 "nbformat_minor": 0
}
