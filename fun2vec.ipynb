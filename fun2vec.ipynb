{
 "cells": [
  {
   "cell_type": "markdown",
   "metadata": {},
   "source": [
    "<p>Twitterのプロフィールで興味・関心キーワードを抜き出したものをcorpus.pklに保存されている</p>\n",
    "<p> それらのキーワードを1つ隠し、残りのキーワードから隠した1つを予測し、学習することで興味ベクトルを作る</p>"
   ]
  },
  {
   "cell_type": "code",
   "execution_count": 1,
   "metadata": {
    "collapsed": false
   },
   "outputs": [],
   "source": [
    "import pickle\n",
    "with open('data/corpus.pkl', 'rb') as f:\n",
    "    corpus = pickle.load(f)\n",
    "with open('data/dictionary.pkl', 'rb') as f:\n",
    "    dictionary = pickle.load(f)"
   ]
  },
  {
   "cell_type": "code",
   "execution_count": 2,
   "metadata": {
    "collapsed": false
   },
   "outputs": [],
   "source": [
    "reverse_dictionary = {v: k for k, v in dictionary.items()}"
   ]
  },
  {
   "cell_type": "code",
   "execution_count": 3,
   "metadata": {
    "collapsed": false
   },
   "outputs": [
    {
     "name": "stdout",
     "output_type": "stream",
     "text": [
      " batch: [[0, 5], [0, 2302], [0, 2], [0, 1], [0, 4], [1, 9405], [1, 30234], [2, 2403], [2, 4699], [2, 7999], [2, 3190], [3, 8163], [3, 6430], [3, 5552], [3, 53937], [3, 2571], [3, 5186], [3, 352], [3, 3875], [3, 2991], [3, 455], [3, 20664], [4, 30324], [4, 13848], [5, 2505], [5, 2994], [5, 7378], [5, 18559], [5, 14151], [5, 8423], [5, 72], [5, 4975], [5, 4699], [5, 10165], [5, 1961], [5, 41895], [6, 33417], [7, 5710], [7, 53], [7, 3617], [7, 51], [7, 2420], [8, 9899], [8, 26476], [8, 1862], [8, 1869], [8, 1866], [8, 554], [8, 2570], [9, 23551], [9, 2372], [9, 554], [9, 31205], [9, 6271], [9, 47541], [9, 2791]]\n",
      " labels: [[0], [2420], [9338], [391], [13857], [77], [6596], [52], [4699], [1756]]\n"
     ]
    }
   ],
   "source": [
    "data_index = 0\n",
    "import numpy as np\n",
    "from copy import copy\n",
    "import random\n",
    "\n",
    "def generate_batch(batch_size):\n",
    "    global data_index\n",
    "    assert batch_size % 2 == 0\n",
    "#     batch = np.ndarray(shape=(batch_size, len), dtype=np.int32)\n",
    "    batch = []\n",
    "    labels = []\n",
    "#     labels = np.ndarray(shape=(batch_size, 1), dtype=np.int32)\n",
    "    batch_count = 0\n",
    "    \n",
    "    while(batch_count < batch_size):\n",
    "        fun_ids = copy(corpus[data_index])\n",
    "        # 興味が１つしかない場合は予測できないので無視\n",
    "        if len(fun_ids) >= 2:\n",
    "            label = random.sample(fun_ids, 1)\n",
    "            fun_ids.remove(label[0])\n",
    "            for fun_id in fun_ids:\n",
    "                batch.append([batch_count, fun_id])\n",
    "            labels.append(label)\n",
    "            batch_count += 1\n",
    "        data_index = (data_index + 1) % len(corpus)\n",
    "        if batch_count >= batch_size:\n",
    "            break\n",
    "\n",
    "    return batch, labels\n",
    "\n",
    "_batch, _labels = generate_batch(batch_size=10)\n",
    "print(' batch:', _batch)\n",
    "print(' labels:', _labels)"
   ]
  },
  {
   "cell_type": "code",
   "execution_count": 15,
   "metadata": {
    "collapsed": false
   },
   "outputs": [],
   "source": [
    "# Train cbow model\n",
    "import tensorflow as tf\n",
    "import math\n",
    "import numpy as np\n",
    "import random\n",
    "\n",
    "BATCH_SIZE = 500\n",
    "EMBEDDING_SIZE = 200\n",
    "NUM_SAMPLED = int(BATCH_SIZE/2)\n",
    "VOCAB_SIZE = len(dictionary)\n",
    "SAMPLE_SIZE = len([16038,892,3655,2259,4055,1604,4569])\n",
    "# 辞書の単語IDは0から順に振られているのでrangeでもOK\n",
    "sample_indices = np.array([[idx, vocab_id] for idx, vocab_id in enumerate([16038,892,3655,2259,4055,1604,4569])])\n",
    "\n",
    "graph = tf.Graph()\n",
    "\n",
    "with graph.as_default(), tf.device('/cpu:0'):\n",
    "    # input data\n",
    "    # sparse matrix(shape=batch_size*vocab_size)にtrain_indicesの部分に0でない興味が入り、valuesはすべて1\n",
    "    train_indices = tf.placeholder(tf.int64) # 0でない場所を指す\n",
    "    train_dataset = tf.SparseTensor(train_indices, values=tf.ones([tf.shape(train_indices)[0]], tf.float32), dense_shape=[BATCH_SIZE, VOCAB_SIZE])\n",
    "    train_labels = tf.placeholder(tf.int32, shape=[BATCH_SIZE, 1])\n",
    "    sample_dataset = tf.SparseTensor(sample_indices, values=tf.ones([tf.shape(sample_indices)[0]], tf.float32), dense_shape=[SAMPLE_SIZE, VOCAB_SIZE])\n",
    "    \n",
    "    # Variables\n",
    "    # 一様分布で興味ベクトル初期化\n",
    "    embeddings = tf.Variable(tf.random_uniform([VOCAB_SIZE, EMBEDDING_SIZE], -1.0, 1.0))\n",
    "    softmax_weights = tf.Variable(tf.truncated_normal([VOCAB_SIZE, EMBEDDING_SIZE], stddev=1.0/math.sqrt(EMBEDDING_SIZE)))\n",
    "    softmax_biases = tf.Variable(tf.zeros([VOCAB_SIZE]))\n",
    "\n",
    "    # 該当ユーザーのtrainingデータの興味ベクトルをすべて足す\n",
    "    embed = tf.sparse_tensor_dense_matmul(train_dataset, embeddings)\n",
    "\n",
    "    # softmax loss with negative sampling\n",
    "    loss = tf.reduce_mean(\n",
    "        tf.nn.sampled_softmax_loss(\n",
    "            weights=softmax_weights,\n",
    "            biases=softmax_biases,\n",
    "            inputs=embed, # batch_size * embedding_size\n",
    "            labels=train_labels,\n",
    "            num_sampled=NUM_SAMPLED,\n",
    "            num_classes=VOCAB_SIZE))\n",
    "    tf.summary.scalar('loss', loss)\n",
    "    optimizer = tf.train.AdagradOptimizer(0.8).minimize(loss)\n",
    "\n",
    "    norm = tf.sqrt(tf.reduce_sum(tf.square(embeddings), 1, keep_dims=True))\n",
    "    normalized_embeddings = embeddings / norm\n",
    "    # サンプルデータのベクトル\n",
    "    sample_embed = tf.sparse_tensor_dense_matmul(sample_dataset, normalized_embeddings)\n",
    "    # サンプルデータとの類似度\n",
    "    similarity = tf.matmul(sample_embed, tf.transpose(normalized_embeddings))\n",
    "    # tensorboard summary\n",
    "    merged_summary = tf.summary.merge_all()"
   ]
  },
  {
   "cell_type": "code",
   "execution_count": 18,
   "metadata": {
    "collapsed": false
   },
   "outputs": [
    {
     "name": "stdout",
     "output_type": "stream",
     "text": [
      "Average loss at step 100: 0.665660\n",
      "Average loss at step 200: 0.660416\n",
      "Average loss at step 300: 0.650846\n",
      "Average loss at step 400: 0.643520\n",
      "Average loss at step 500: 0.640894\n",
      "Average loss at step 600: 0.641348\n",
      "Average loss at step 700: 0.639553\n",
      "Average loss at step 800: 0.639181\n",
      "Average loss at step 900: 0.636717\n",
      "Average loss at step 1000: 0.637034\n",
      "Nearest to 機械学習: 今日から俺は  胎盤  貘  北村匠海  梨菜  智香  マジガルディズ  三越 \n",
      "Nearest to プログラミング: かい  ピスト  ジェジュン  日にち  ゴローちゃん  文献学  出茂  ガングレイヴ \n",
      "Nearest to 将棋: 極黒のブリュンヒルデ  赤さん  具志堅用高  戦旗  博物館  ネイサン  コンヒーロ  METAL MAX \n",
      "Nearest to ビリヤード: トニジャ  品田  残像  東京ヴェルディ  斉藤和義  ももクロちゃん  速水  婆裟羅 \n",
      "Nearest to ダーツ: 依田  申告  作りました  小宮有紗  ハヤシ  GRADIUS  茹  结衣 \n",
      "Nearest to 旅行: 異性装  田崎敬浩  たばこ  共和主義  国交断絶  専念  鼻血  ガンダムブレイカー \n",
      "Nearest to 温泉: 痴呆症  メシア  猫と金魚  ブリーフ  自治会  無修正動画  今野杏南  福浦 \n",
      "Average loss at step 1100: 0.631687\n",
      "Average loss at step 1200: 0.629109\n",
      "Average loss at step 1300: 0.628437\n",
      "Average loss at step 1400: 0.664179\n",
      "Average loss at step 1500: 0.661092\n",
      "Average loss at step 1600: 0.654185\n",
      "Average loss at step 1700: 0.647038\n",
      "Average loss at step 1800: 0.638197\n",
      "Average loss at step 1900: 0.640667\n",
      "Average loss at step 2000: 0.639970\n",
      "Nearest to 機械学習: 今日から俺は  胎盤  貘  北村匠海  梨菜  智香  マジガルディズ  三越 \n",
      "Nearest to プログラミング: かい  ピスト  ジェジュン  日にち  ゴローちゃん  文献学  出茂  ガングレイヴ \n",
      "Nearest to 将棋: 極黒のブリュンヒルデ  赤さん  具志堅用高  戦旗  博物館  ネイサン  コンヒーロ  METAL MAX \n",
      "Nearest to ビリヤード: トニジャ  品田  残像  東京ヴェルディ  斉藤和義  ももクロちゃん  速水  婆裟羅 \n",
      "Nearest to ダーツ: 依田  申告  作りました  小宮有紗  ハヤシ  GRADIUS  茹  结衣 \n",
      "Nearest to 旅行: 異性装  田崎敬浩  たばこ  共和主義  国交断絶  専念  鼻血  ガンダムブレイカー \n",
      "Nearest to 温泉: 痴呆症  メシア  猫と金魚  ブリーフ  自治会  無修正動画  今野杏南  福浦 \n"
     ]
    }
   ],
   "source": [
    "NUM_STEPS = 2000\n",
    "SUMMARY_DIR = 'data/tensorboard'\n",
    "TOP_K = 8\n",
    "\n",
    "with tf.Session(graph=graph) as sess:\n",
    "    writer = tf.summary.FileWriter(SUMMARY_DIR, sess.graph)\n",
    "    tf.global_variables_initializer().run()\n",
    "    average_loss = 0\n",
    "    for step in range(1, NUM_STEPS+1):\n",
    "        batch_data, batch_labels = generate_batch(BATCH_SIZE)\n",
    "        feed_dict = {\n",
    "            train_indices: batch_data,\n",
    "            train_labels: batch_labels\n",
    "        }\n",
    "        summary, I = sess.run([merged_summary, loss], feed_dict=feed_dict, options=options, run_metadata=run_metadata)\n",
    "        average_loss += I\n",
    "        if step % 100 == 0:\n",
    "            average_loss = average_loss / 1000\n",
    "            print('Average loss at step %d: %f' % (step, average_loss))\n",
    "            average_loss = 0\n",
    "            writer.add_summary(summary, step)\n",
    "        if step % 1000 == 0:\n",
    "            sim = similarity.eval()\n",
    "            for i in range(SAMPLE_SIZE):\n",
    "                sample_fun = reverse_dictionary[sample_indices[i][1]]\n",
    "                nearest = (-sim[i, :]).argsort()[1:TOP_K+1]\n",
    "                log = 'Nearest to %s:' % sample_fun\n",
    "                for k in range(TOP_K):\n",
    "                    close_fun = reverse_dictionary[nearest[k]]\n",
    "                    log = '%s %s ' % (log, close_fun)\n",
    "                print(log)\n",
    "    final_embeddings = normalized_embeddings.eval()"
   ]
  },
  {
   "cell_type": "code",
   "execution_count": 6,
   "metadata": {
    "collapsed": false
   },
   "outputs": [
    {
     "name": "stdout",
     "output_type": "stream",
     "text": [
      "16038\n",
      "892\n",
      "3655\n",
      "2259\n",
      "4055\n",
      "1604\n",
      "4569\n"
     ]
    }
   ],
   "source": [
    "print(dictionary['機械学習'])\n",
    "print(dictionary['プログラミング'])\n",
    "print(dictionary['将棋'])\n",
    "print(dictionary['ビリヤード'])\n",
    "print(dictionary['ダーツ'])\n",
    "print(dictionary['旅行'])\n",
    "print(dictionary['温泉'])"
   ]
  }
 ],
 "metadata": {
  "kernelspec": {
   "display_name": "Python 3",
   "language": "python",
   "name": "python3"
  },
  "language_info": {
   "codemirror_mode": {
    "name": "ipython",
    "version": 3
   },
   "file_extension": ".py",
   "mimetype": "text/x-python",
   "name": "python",
   "nbconvert_exporter": "python",
   "pygments_lexer": "ipython3",
   "version": "3.5.3"
  }
 },
 "nbformat": 4,
 "nbformat_minor": 0
}
