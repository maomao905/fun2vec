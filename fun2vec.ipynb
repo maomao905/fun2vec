{
 "cells": [
  {
   "cell_type": "markdown",
   "metadata": {},
   "source": [
    "<p>Twitterのプロフィールで興味・関心キーワードを抜き出したものをcorpus.pklに保存されている</p>\n",
    "<p> それらのキーワードを1つ隠し、残りのキーワードから隠した1つを予測し、学習することで興味ベクトルを作る</p>"
   ]
  },
  {
   "cell_type": "code",
   "execution_count": null,
   "metadata": {
    "collapsed": false
   },
   "outputs": [],
   "source": [
    "import pickle\n",
    "with open('data/corpus.pkl', 'rb') as f:\n",
    "    corpus = pickle.load(f)\n",
    "with open('data/dictionary.pkl', 'rb') as f:\n",
    "    dictionary = pickle.load(f)"
   ]
  },
  {
   "cell_type": "code",
   "execution_count": null,
   "metadata": {
    "collapsed": false
   },
   "outputs": [],
   "source": [
    "max(list(dictionary.values()))"
   ]
  },
  {
   "cell_type": "code",
   "execution_count": null,
   "metadata": {
    "collapsed": false
   },
   "outputs": [],
   "source": [
    "data_index = 0\n",
    "import numpy as np\n",
    "from copy import copy\n",
    "import random\n",
    "\n",
    "def generate_batch(batch_size):\n",
    "    global data_index\n",
    "    assert batch_size % 2 == 0\n",
    "#     batch = np.ndarray(shape=(batch_size, len), dtype=np.int32)\n",
    "    batch = []\n",
    "    labels = []\n",
    "#     labels = np.ndarray(shape=(batch_size, 1), dtype=np.int32)\n",
    "    batch_count = 0\n",
    "    \n",
    "    while(batch_count < batch_size):\n",
    "        fun_ids = copy(corpus[data_index])\n",
    "        # 興味が１つしかない場合は予測できないので無視\n",
    "        if len(fun_ids) >= 2:\n",
    "            label = random.sample(fun_ids, 1)\n",
    "            fun_ids.remove(label[0])\n",
    "            batch.append(fun_ids)\n",
    "            labels.append(label)\n",
    "            batch_count += 1\n",
    "        data_index = (data_index + 1) % len(corpus)\n",
    "        if batch_count >= batch_size:\n",
    "            break\n",
    "\n",
    "    return batch, labels\n",
    "\n",
    "_batch, _labels = generate_batch(batch_size=10)\n",
    "print(' batch:', _batch)\n",
    "print(' labels:', _labels)"
   ]
  },
  {
   "cell_type": "code",
   "execution_count": null,
   "metadata": {
    "collapsed": false
   },
   "outputs": [],
   "source": [
    "# Train cbow model\n",
    "import tensorflow as tf\n",
    "import math\n",
    "import numpy as np\n",
    "import random\n",
    "\n",
    "BATCH_SIZE = 500\n",
    "EMBEDDING_SIZE = 200\n",
    "NUM_SAMPLED = 15\n",
    "\n",
    "SAMPLE_SIZE = 15\n",
    "# 辞書の単語IDは0から順に振られているのでrangeでもOK\n",
    "samples = np.array(random.sample(range(len(dictionary)), SAMPLE_SIZE))\n",
    "\n",
    "graph = tf.Graph()\n",
    "\n",
    "with graph.as_default(), tf.device('/cpu:0'):\n",
    "    # input data\n",
    "    train_dataset = tf.placeholder(tf.int32, shape=[BATCH_SIZE, None])\n",
    "    train_labels = tf.placeholder(tf.int32, shape=[BATCH_SIZE, 1])\n",
    "    sample_dataset = tf.constant(samples, dtype=tf.int32)\n",
    "    sample_dataset = tf.reshape(sample_dataset, [SAMPLE_SIZE, 1])\n",
    "    \n",
    "    # Variables\n",
    "    # 一様分布で興味ベクトル初期化\n",
    "    embeddings = tf.Variable(\n",
    "        tf.random_uniform([len(dictionary), EMBEDDING_SIZE], -1.0, 1.0))\n",
    "    softmax_weights = tf.Variable(\n",
    "        tf.truncated_normal([len(dictionary), EMBEDDING_SIZE],\n",
    "                           stddev=1.0/math.sqrt(EMBEDDING_SIZE)))\n",
    "    softmax_biases = tf.Variable(tf.zeros([len(dictionary)]))\n",
    "\n",
    "    # 該当ユーザーのtrainingデータの興味ベクトルをすべて足す\n",
    "    embed = tf.stack([tf.foldl(lambda x, y: x + y, tf.nn.embedding_lookup(embeddings, train_dataset[i])) for i in range(BATCH_SIZE)])\n",
    "\n",
    "    # softmax loss with negative sampling\n",
    "    loss = tf.reduce_mean(\n",
    "        tf.nn.sampled_softmax_loss(\n",
    "            weights=softmax_weights,\n",
    "            biases=softmax_biases,\n",
    "            inputs=embed, # batch_size * embedding_size\n",
    "            labels=train_labels,\n",
    "            num_sampled=NUM_SAMPLED,\n",
    "            num_classes=len(dictionary)))\n",
    "    \n",
    "    optimizer = tf.train.AdagradOptimizer(0.8).minimize(loss)\n",
    "    norm = tf.sqrt(tf.reduce_sum(tf.square(embeddings), 1, keep_dims=True))\n",
    "    normalized_embeddings = embeddings / norm\n",
    "    # サンプルデータのベクトル\n",
    "    sample_embed = tf.stack([tf.foldl(lambda x, y: x + y, tf.nn.embedding_lookup(normalized_embeddings, sample_dataset[i])) for i in range(SAMPLE_SIZE)])\n",
    "    # サンプルデータとの類似度\n",
    "    similarity = tf.matmul(sample_embed, tf.transpose(normalized_embeddings))"
   ]
  },
  {
   "cell_type": "code",
   "execution_count": null,
   "metadata": {
    "collapsed": false
   },
   "outputs": [],
   "source": [
    "num_steps = 100\n",
    "\n",
    "with tf.Session(graph=graph) as session:\n",
    "    tf.global_variables_initializer().run()\n",
    "    average_loss = 0\n",
    "    for step in range(1, num_steps+1):\n",
    "        batch_data, batch_labels = generate_batch(BATCH_SIZE)\n",
    "        feed_dict = {\n",
    "            train_dataset: batch_data,\n",
    "            train_labels: batch_labels\n",
    "        }\n",
    "        _, I = session.run([optimizer, loss], feed_dict=feed_dict)\n",
    "        average_loss += I\n",
    "        print(step)\n",
    "        if step % 2000 == 0:\n",
    "            if step > 0:\n",
    "                average_loss = average_loss / 2000\n",
    "                print('Average loss at step %d: %f' % (step, average_loss))\n",
    "                average_loss = 0\n",
    "        if step % 10000 == 0:\n",
    "            sim = similarity.eval()\n",
    "            TOP_K = 8\n",
    "            for i in range(SAMPLE_SIZE):\n",
    "                sample_fun = dictionary[samples[i]]\n",
    "                nearest = (-sim[i, :]).argsort()[1:TOP_K+1]\n",
    "                log = 'Nearest to %s:' % sample_fun\n",
    "                for k in range(TOP_K):\n",
    "                    close_fun = dictionary[nearest[k]]\n",
    "                    log = '%s %s ' % (log, close_fun)\n",
    "                print(log)\n",
    "    final_embeddings = normalized_embeddings.eval()"
   ]
  }
 ],
 "metadata": {
  "kernelspec": {
   "display_name": "Python 3",
   "language": "python",
   "name": "python3"
  },
  "language_info": {
   "codemirror_mode": {
    "name": "ipython",
    "version": 3
   },
   "file_extension": ".py",
   "mimetype": "text/x-python",
   "name": "python",
   "nbconvert_exporter": "python",
   "pygments_lexer": "ipython3",
   "version": "3.5.3"
  }
 },
 "nbformat": 4,
 "nbformat_minor": 0
}
